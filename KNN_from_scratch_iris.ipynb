{
 "cells": [
  {
   "cell_type": "code",
   "execution_count": 44,
   "metadata": {},
   "outputs": [],
   "source": [
    "# KNN from scratch without the use of scikit-learn library\n",
    "# Data - Iris dataset \n",
    "# Classify iris plants into three species "
   ]
  },
  {
   "cell_type": "code",
   "execution_count": 45,
   "metadata": {},
   "outputs": [],
   "source": [
    "# Import libraries\n",
    "import pandas as pd\n",
    "import statistics as stat\n",
    "import numpy as np\n",
    "from datetime import datetime\n",
    "from scipy import stats\n",
    "\n",
    "import matplotlib.pyplot  as plt "
   ]
  },
  {
   "cell_type": "code",
   "execution_count": 46,
   "metadata": {},
   "outputs": [],
   "source": [
    "# Import dataset\n",
    "iris_df = pd.read_csv(r'C:\\Users\\Yuliya.DESKTOP-FMS37R3\\Documents\\Data_Science\\Projects\\Machine Learning Models\\datasets\\iris.csv')"
   ]
  },
  {
   "cell_type": "code",
   "execution_count": 47,
   "metadata": {},
   "outputs": [],
   "source": [
    "# Review dataset\n",
    "\n",
    "def review_dataset(df):\n",
    "    print(f'The dataset has {df.shape[0]} rows and {df.shape[1]} columns')\n",
    "    print(f'The column names are: {list(df.columns)}')\n",
    "    print(f'There are {df.isna().sum().sum()} missing values')\n",
    "    print(f'There are {df.duplicated().sum()} duplicate rows')\n",
    "    print(f'\\nThe first 5 rows of dataset:')\n",
    "    display(df.head(5))\n",
    "    print(f'\\nReview columns and data types')\n",
    "    display(df.info())\n",
    "    print('\\nSummary statustics: ')\n",
    "    display(df.describe())"
   ]
  },
  {
   "cell_type": "code",
   "execution_count": 48,
   "metadata": {},
   "outputs": [
    {
     "name": "stdout",
     "output_type": "stream",
     "text": [
      "The dataset has 150 rows and 5 columns\n",
      "The column names are: ['sepal_length', 'sepal_width', 'petal_length', 'petal_width', 'species']\n",
      "There are 0 missing values\n",
      "There are 3 duplicate rows\n",
      "\n",
      "The first 5 rows of dataset:\n"
     ]
    },
    {
     "data": {
      "text/html": [
       "<div>\n",
       "<style scoped>\n",
       "    .dataframe tbody tr th:only-of-type {\n",
       "        vertical-align: middle;\n",
       "    }\n",
       "\n",
       "    .dataframe tbody tr th {\n",
       "        vertical-align: top;\n",
       "    }\n",
       "\n",
       "    .dataframe thead th {\n",
       "        text-align: right;\n",
       "    }\n",
       "</style>\n",
       "<table border=\"1\" class=\"dataframe\">\n",
       "  <thead>\n",
       "    <tr style=\"text-align: right;\">\n",
       "      <th></th>\n",
       "      <th>sepal_length</th>\n",
       "      <th>sepal_width</th>\n",
       "      <th>petal_length</th>\n",
       "      <th>petal_width</th>\n",
       "      <th>species</th>\n",
       "    </tr>\n",
       "  </thead>\n",
       "  <tbody>\n",
       "    <tr>\n",
       "      <th>0</th>\n",
       "      <td>5.1</td>\n",
       "      <td>3.5</td>\n",
       "      <td>1.4</td>\n",
       "      <td>0.2</td>\n",
       "      <td>Iris-setosa</td>\n",
       "    </tr>\n",
       "    <tr>\n",
       "      <th>1</th>\n",
       "      <td>4.9</td>\n",
       "      <td>3.0</td>\n",
       "      <td>1.4</td>\n",
       "      <td>0.2</td>\n",
       "      <td>Iris-setosa</td>\n",
       "    </tr>\n",
       "    <tr>\n",
       "      <th>2</th>\n",
       "      <td>4.7</td>\n",
       "      <td>3.2</td>\n",
       "      <td>1.3</td>\n",
       "      <td>0.2</td>\n",
       "      <td>Iris-setosa</td>\n",
       "    </tr>\n",
       "    <tr>\n",
       "      <th>3</th>\n",
       "      <td>4.6</td>\n",
       "      <td>3.1</td>\n",
       "      <td>1.5</td>\n",
       "      <td>0.2</td>\n",
       "      <td>Iris-setosa</td>\n",
       "    </tr>\n",
       "    <tr>\n",
       "      <th>4</th>\n",
       "      <td>5.0</td>\n",
       "      <td>3.6</td>\n",
       "      <td>1.4</td>\n",
       "      <td>0.2</td>\n",
       "      <td>Iris-setosa</td>\n",
       "    </tr>\n",
       "  </tbody>\n",
       "</table>\n",
       "</div>"
      ],
      "text/plain": [
       "   sepal_length  sepal_width  petal_length  petal_width      species\n",
       "0           5.1          3.5           1.4          0.2  Iris-setosa\n",
       "1           4.9          3.0           1.4          0.2  Iris-setosa\n",
       "2           4.7          3.2           1.3          0.2  Iris-setosa\n",
       "3           4.6          3.1           1.5          0.2  Iris-setosa\n",
       "4           5.0          3.6           1.4          0.2  Iris-setosa"
      ]
     },
     "metadata": {},
     "output_type": "display_data"
    },
    {
     "name": "stdout",
     "output_type": "stream",
     "text": [
      "\n",
      "Review columns and data types\n",
      "<class 'pandas.core.frame.DataFrame'>\n",
      "RangeIndex: 150 entries, 0 to 149\n",
      "Data columns (total 5 columns):\n",
      " #   Column        Non-Null Count  Dtype  \n",
      "---  ------        --------------  -----  \n",
      " 0   sepal_length  150 non-null    float64\n",
      " 1   sepal_width   150 non-null    float64\n",
      " 2   petal_length  150 non-null    float64\n",
      " 3   petal_width   150 non-null    float64\n",
      " 4   species       150 non-null    object \n",
      "dtypes: float64(4), object(1)\n",
      "memory usage: 6.0+ KB\n"
     ]
    },
    {
     "data": {
      "text/plain": [
       "None"
      ]
     },
     "metadata": {},
     "output_type": "display_data"
    },
    {
     "name": "stdout",
     "output_type": "stream",
     "text": [
      "\n",
      "Summary statustics: \n"
     ]
    },
    {
     "data": {
      "text/html": [
       "<div>\n",
       "<style scoped>\n",
       "    .dataframe tbody tr th:only-of-type {\n",
       "        vertical-align: middle;\n",
       "    }\n",
       "\n",
       "    .dataframe tbody tr th {\n",
       "        vertical-align: top;\n",
       "    }\n",
       "\n",
       "    .dataframe thead th {\n",
       "        text-align: right;\n",
       "    }\n",
       "</style>\n",
       "<table border=\"1\" class=\"dataframe\">\n",
       "  <thead>\n",
       "    <tr style=\"text-align: right;\">\n",
       "      <th></th>\n",
       "      <th>sepal_length</th>\n",
       "      <th>sepal_width</th>\n",
       "      <th>petal_length</th>\n",
       "      <th>petal_width</th>\n",
       "    </tr>\n",
       "  </thead>\n",
       "  <tbody>\n",
       "    <tr>\n",
       "      <th>count</th>\n",
       "      <td>150.000000</td>\n",
       "      <td>150.000000</td>\n",
       "      <td>150.000000</td>\n",
       "      <td>150.000000</td>\n",
       "    </tr>\n",
       "    <tr>\n",
       "      <th>mean</th>\n",
       "      <td>5.843333</td>\n",
       "      <td>3.054000</td>\n",
       "      <td>3.758667</td>\n",
       "      <td>1.198667</td>\n",
       "    </tr>\n",
       "    <tr>\n",
       "      <th>std</th>\n",
       "      <td>0.828066</td>\n",
       "      <td>0.433594</td>\n",
       "      <td>1.764420</td>\n",
       "      <td>0.763161</td>\n",
       "    </tr>\n",
       "    <tr>\n",
       "      <th>min</th>\n",
       "      <td>4.300000</td>\n",
       "      <td>2.000000</td>\n",
       "      <td>1.000000</td>\n",
       "      <td>0.100000</td>\n",
       "    </tr>\n",
       "    <tr>\n",
       "      <th>25%</th>\n",
       "      <td>5.100000</td>\n",
       "      <td>2.800000</td>\n",
       "      <td>1.600000</td>\n",
       "      <td>0.300000</td>\n",
       "    </tr>\n",
       "    <tr>\n",
       "      <th>50%</th>\n",
       "      <td>5.800000</td>\n",
       "      <td>3.000000</td>\n",
       "      <td>4.350000</td>\n",
       "      <td>1.300000</td>\n",
       "    </tr>\n",
       "    <tr>\n",
       "      <th>75%</th>\n",
       "      <td>6.400000</td>\n",
       "      <td>3.300000</td>\n",
       "      <td>5.100000</td>\n",
       "      <td>1.800000</td>\n",
       "    </tr>\n",
       "    <tr>\n",
       "      <th>max</th>\n",
       "      <td>7.900000</td>\n",
       "      <td>4.400000</td>\n",
       "      <td>6.900000</td>\n",
       "      <td>2.500000</td>\n",
       "    </tr>\n",
       "  </tbody>\n",
       "</table>\n",
       "</div>"
      ],
      "text/plain": [
       "       sepal_length  sepal_width  petal_length  petal_width\n",
       "count    150.000000   150.000000    150.000000   150.000000\n",
       "mean       5.843333     3.054000      3.758667     1.198667\n",
       "std        0.828066     0.433594      1.764420     0.763161\n",
       "min        4.300000     2.000000      1.000000     0.100000\n",
       "25%        5.100000     2.800000      1.600000     0.300000\n",
       "50%        5.800000     3.000000      4.350000     1.300000\n",
       "75%        6.400000     3.300000      5.100000     1.800000\n",
       "max        7.900000     4.400000      6.900000     2.500000"
      ]
     },
     "metadata": {},
     "output_type": "display_data"
    }
   ],
   "source": [
    "review_dataset(iris_df)"
   ]
  },
  {
   "cell_type": "code",
   "execution_count": 49,
   "metadata": {},
   "outputs": [],
   "source": [
    "# Clean dataset and Encode lables \n",
    "\n",
    "# Remove duplicates \n",
    "iris_df.drop_duplicates(inplace = True, ignore_index=True)"
   ]
  },
  {
   "cell_type": "code",
   "execution_count": 50,
   "metadata": {},
   "outputs": [],
   "source": [
    "# Encode target classes \n",
    "display(iris_df['species'].value_counts())\n"
   ]
  },
  {
   "cell_type": "code",
   "execution_count": 53,
   "metadata": {},
   "outputs": [],
   "source": [
    "# Encode target classes \n",
    "#'Iris-versicolor' = 0\n",
    "#'Iris-virginica' = 1\n",
    "#'Iris-setosa' = 2\n",
    "\n",
    "iris_df['species'].replace(['Iris-versicolor', 'Iris-virginica','Iris-setosa'], [0, 1, 2], inplace=True)"
   ]
  },
  {
   "cell_type": "code",
   "execution_count": 54,
   "metadata": {},
   "outputs": [],
   "source": [
    "# Split into train and test datasets \n",
    "\n",
    "def split_train_test_datasets(df, select_ratio):\n",
    "    \"\"\"Split dataset into train and test sets\"\"\"\n",
    "    # Shuffle dataframe using sample function\n",
    "    df = df.sample(frac=1, random_state=3)    # frac=1 returns entire dataframe\n",
    "    # Select ratio\n",
    "    ratio = select_ratio\n",
    "    total_rows = df.shape[0]\n",
    "    train_size = int(total_rows*ratio)\n",
    "    # Split data into test and train\n",
    "    train = df[0:train_size]\n",
    "    test = df[train_size:]\n",
    "    return train, test"
   ]
  },
  {
   "cell_type": "code",
   "execution_count": 55,
   "metadata": {},
   "outputs": [],
   "source": [
    "def pairwise_dists(x_test, x_train):\n",
    "    \"\"\" Computing pairwise distances using memory-efficient\n",
    "        vectorization.\n",
    "\n",
    "        Parameters\n",
    "        ----------\n",
    "        x_train : numpy.ndarray, shape=(M, D)\n",
    "        x_test : numpy.ndarray, shape=(N, D)\n",
    "\n",
    "        Returns\n",
    "        -------\n",
    "        numpy.ndarray, shape=(M, N)\n",
    "            The Euclidean distance between each pair of\n",
    "            rows between `x_train` and `x_test`.\"\"\"\n",
    "    dists = -2 * np.matmul(x_train, x_test.T)\n",
    "    dists +=  np.sum(x_train**2, axis=1)[:, np.newaxis]\n",
    "    dists += np.sum(x_test**2, axis=1)\n",
    "    return  np.sqrt(dists)"
   ]
  },
  {
   "cell_type": "code",
   "execution_count": 56,
   "metadata": {},
   "outputs": [],
   "source": [
    "def most_common(series): \n",
    "    return(stat.mode(series)) "
   ]
  },
  {
   "cell_type": "code",
   "execution_count": 57,
   "metadata": {},
   "outputs": [],
   "source": [
    "def predict_scores(arr_sorted_class_scores, klist):\n",
    "    \"\"\" predict class score based on majority for each K \"\"\"\n",
    "\n",
    "    k_preds = np.empty((0,len(klist)), int)\n",
    "\n",
    "    for row in arr_sorted_class_scores:\n",
    "\n",
    "        row_prediction = []\n",
    "        for k in klist:\n",
    "            prediction = most_common(row[:k])\n",
    "            row_prediction = np.append(row_prediction, int(prediction))\n",
    "\n",
    "        k_preds = np.vstack((k_preds, np.array((row_prediction))))\n",
    "\n",
    "    return k_preds"
   ]
  },
  {
   "cell_type": "code",
   "execution_count": 58,
   "metadata": {},
   "outputs": [],
   "source": [
    "def calculate_accuracy (arr_preds, test_class_scores):\n",
    "    \"\"\" calculate accuracy for each K \"\"\"\n",
    "    K_accuracies = []\n",
    "\n",
    "    for row in arr_preds.T:\n",
    "        matches = np.count_nonzero(row == test_class_scores)\n",
    "        accuracy = (matches/len(row))*100\n",
    "        K_accuracies = np.append(K_accuracies, accuracy)\n",
    "\n",
    "    return K_accuracies"
   ]
  },
  {
   "cell_type": "code",
   "execution_count": 59,
   "metadata": {},
   "outputs": [],
   "source": [
    "def KNN_Classify (x_train, y_train, x_test, y_test, klist):\n",
    "    #== get Euclidian distance between train and test data points\n",
    "    distance = pairwise_dists(x_train, x_test)\n",
    "\n",
    "    #== sort disctance array ascending by row and return array of indexes\n",
    "    sorted_distance_indexes = distance.argsort(axis=1)\n",
    "\n",
    "    #== assign train class scores to sorted distance array by index \n",
    "    sortedarray = y_train[sorted_distance_indexes]\n",
    "\n",
    "    #== predict class score based on majority for each K\n",
    "    K_predictions = predict_scores(sortedarray, K_list)\n",
    "\n",
    "    #== calucalate accuracy of predictions\n",
    "    arr_K_Accuracy = calculate_accuracy(K_predictions, y_test)\n",
    "\n",
    "    return arr_K_Accuracy, K_predictions\n"
   ]
  },
  {
   "cell_type": "code",
   "execution_count": 60,
   "metadata": {},
   "outputs": [],
   "source": [
    "def print_accuracy_report(arr_k_accuracy, klist):\n",
    "\n",
    "    Report = np.vstack((klist, arr_k_accuracy))\n",
    "    Report = Report.T\n",
    "\n",
    "    for row in Report:\n",
    "        print(f\"K-{int(row[0])}: {str(round(row[1], 2))}%\")\n",
    "    print(f\"\\n\")\n"
   ]
  },
  {
   "cell_type": "code",
   "execution_count": 61,
   "metadata": {},
   "outputs": [],
   "source": [
    "def print_prediction_rows(arr_pred, arr_test, num_rows, klist):\n",
    "    \n",
    "    df = pd.DataFrame(data=(arr_pred[:num_rows,:]), index=((arr_test.iloc[:, 0]).head(num_rows)), columns=klist)\n",
    "    df.replace(to_replace = 0, value =\"Iris-versicolor\", inplace=True)\n",
    "    df.replace(to_replace = 1, value =\"Iris-virginica\", inplace=True)\n",
    "    df.replace(to_replace = 2, value =\"Iris-setosa\", inplace=True)\n",
    "\n",
    "    print(f\"K_predictions, z normalized, first {num_rows} rows:\\n\\n {df}\")"
   ]
  },
  {
   "cell_type": "code",
   "execution_count": 62,
   "metadata": {},
   "outputs": [],
   "source": [
    "def create_k_list(start, end, step=2):\n",
    "    \"\"\"Create a list of K values. \n",
    "    Input: Starting number (should be a odd number), ending number, step (default step = 2 for odd numbers)\"\"\"\n",
    "    k_list_numbers = [i for i in range(start, end+1, step)]\n",
    "    return k_list_numbers"
   ]
  },
  {
   "cell_type": "code",
   "execution_count": 80,
   "metadata": {},
   "outputs": [],
   "source": [
    "#== List of K values to test\n",
    "K_list = create_k_list(1, 61, step=2)"
   ]
  },
  {
   "cell_type": "code",
   "execution_count": 75,
   "metadata": {},
   "outputs": [],
   "source": [
    "trainData, testData = split_train_test_datasets(iris_df, select_ratio = 0.8)"
   ]
  },
  {
   "cell_type": "code",
   "execution_count": 76,
   "metadata": {},
   "outputs": [],
   "source": [
    "#== convert to numpy arrays and remove label rows and columns\n",
    "x_trainArray = np.array(trainData.iloc[:,0:-1])     # train data\n",
    "y_trainArray = np.array(trainData.iloc[:,-1])       # train iris type\n",
    "x_testArray = np.array(testData.iloc[:,0:-1])       # test data\n",
    "y_testArray = np.array(testData.iloc[:,-1])         # test iris type"
   ]
  },
  {
   "cell_type": "code",
   "execution_count": 81,
   "metadata": {},
   "outputs": [
    {
     "name": "stdout",
     "output_type": "stream",
     "text": [
      "\n",
      "KNN accuracy report without normalizing features:\n",
      "\n",
      "K-1: 90.0%\n",
      "K-3: 93.33%\n",
      "K-5: 93.33%\n",
      "K-7: 93.33%\n",
      "K-9: 93.33%\n",
      "K-11: 93.33%\n",
      "K-13: 93.33%\n",
      "K-15: 93.33%\n",
      "K-17: 93.33%\n",
      "K-19: 93.33%\n",
      "K-21: 90.0%\n",
      "K-23: 90.0%\n",
      "K-25: 90.0%\n",
      "K-27: 90.0%\n",
      "K-29: 90.0%\n",
      "K-31: 90.0%\n",
      "K-33: 90.0%\n",
      "K-35: 90.0%\n",
      "K-37: 93.33%\n",
      "K-39: 93.33%\n",
      "K-41: 90.0%\n",
      "K-43: 90.0%\n",
      "K-45: 86.67%\n",
      "K-47: 90.0%\n",
      "K-49: 90.0%\n",
      "K-51: 86.67%\n",
      "K-53: 83.33%\n",
      "K-55: 83.33%\n",
      "K-57: 86.67%\n",
      "K-59: 90.0%\n",
      "K-61: 86.67%\n",
      "\n",
      "\n"
     ]
    }
   ],
   "source": [
    "#===> Q:a - Process data without normalizing features\n",
    "\n",
    "#== calculate KNN accuracy for given K List\n",
    "arr_K_Accuracy, arr_predictions = KNN_Classify(x_trainArray, y_trainArray, x_testArray, y_testArray, K_list)\n",
    "\n",
    "#== print accuracy report\n",
    "print(f\"\\nKNN accuracy report without normalizing features:\\n\")\n",
    "print_accuracy_report(arr_K_Accuracy, K_list)"
   ]
  },
  {
   "cell_type": "code",
   "execution_count": 82,
   "metadata": {},
   "outputs": [
    {
     "name": "stdout",
     "output_type": "stream",
     "text": [
      "KNN accuracy report with z normalized features:\n",
      "\n",
      "K-1: 90.0%\n",
      "K-3: 90.0%\n",
      "K-5: 86.67%\n",
      "K-7: 90.0%\n",
      "K-9: 86.67%\n",
      "K-11: 86.67%\n",
      "K-13: 86.67%\n",
      "K-15: 86.67%\n",
      "K-17: 86.67%\n",
      "K-19: 86.67%\n",
      "K-21: 86.67%\n",
      "K-23: 86.67%\n",
      "K-25: 90.0%\n",
      "K-27: 86.67%\n",
      "K-29: 86.67%\n",
      "K-31: 86.67%\n",
      "K-33: 86.67%\n",
      "K-35: 86.67%\n",
      "K-37: 86.67%\n",
      "K-39: 83.33%\n",
      "K-41: 83.33%\n",
      "K-43: 83.33%\n",
      "K-45: 83.33%\n",
      "K-47: 83.33%\n",
      "K-49: 83.33%\n",
      "K-51: 83.33%\n",
      "K-53: 83.33%\n",
      "K-55: 83.33%\n",
      "K-57: 83.33%\n",
      "K-59: 83.33%\n",
      "K-61: 83.33%\n",
      "\n",
      "\n"
     ]
    }
   ],
   "source": [
    "#===> Q:b - Process data with z normalized features\n",
    "\n",
    "#== Z-Normailze data sets\n",
    "x_train_norm = stats.zscore(x_trainArray)\n",
    "x_test_norm = stats.zscore(x_testArray)\n",
    "\n",
    "#== calculate KNN accuracy for given K List\n",
    "arr_K_Accuracy, arr_predictions = KNN_Classify (x_train_norm, y_trainArray, x_test_norm, y_testArray, K_list)\n",
    "\n",
    "#== print accuracy report\n",
    "print(f\"KNN accuracy report with z normalized features:\\n\")\n",
    "print_accuracy_report(arr_K_Accuracy, K_list)\n"
   ]
  },
  {
   "cell_type": "code",
   "execution_count": 83,
   "metadata": {},
   "outputs": [
    {
     "data": {
      "image/png": "[encoded data removed]",
      "text/plain": [
       "<Figure size 432x288 with 1 Axes>"
      ]
     },
     "metadata": {
      "needs_background": "light"
     },
     "output_type": "display_data"
    }
   ],
   "source": [
    "# Visualize K and Accuracy \n",
    "\n",
    "fig, ax = plt.subplots()\n",
    "ax.plot(K_list, arr_K_Accuracy)\n",
    "ax.set(xlabel=\"K\",\n",
    "       ylabel=\"Accuracy\",\n",
    "       title=\"Performance of KNN\")\n",
    "plt.show()"
   ]
  },
  {
   "cell_type": "code",
   "execution_count": null,
   "metadata": {},
   "outputs": [],
   "source": []
  }
 ],
 "metadata": {
  "kernelspec": {
   "display_name": "Python 3",
   "language": "python",
   "name": "python3"
  },
  "language_info": {
   "codemirror_mode": {
    "name": "ipython",
    "version": 3
   },
   "file_extension": ".py",
   "mimetype": "text/x-python",
   "name": "python",
   "nbconvert_exporter": "python",
   "pygments_lexer": "ipython3",
   "version": "3.7.9"
  }
 },
 "nbformat": 4,
 "nbformat_minor": 2
}
